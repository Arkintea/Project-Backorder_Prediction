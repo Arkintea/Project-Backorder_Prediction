{
 "cells": [
  {
   "cell_type": "code",
   "execution_count": 84,
   "metadata": {},
   "outputs": [],
   "source": [
    "import yaml\n",
    "import os\n",
    "def read_yaml_file(file_path:str)->dict:\n",
    "    \"\"\"\n",
    "    Reads a YAML file and returns the contents as a dictionary.\n",
    "    file_path: str\n",
    "    \"\"\"\n",
    "    try:\n",
    "        with open(file_path, 'rb') as yaml_file:\n",
    "            return yaml.safe_load(yaml_file)\n",
    "    except Exception as e:\n",
    "        raise e"
   ]
  },
  {
   "cell_type": "code",
   "execution_count": 53,
   "metadata": {},
   "outputs": [
    {
     "data": {
      "text/plain": [
       "{'training_pipeline_config': {'pipeline_name': 'backorder',\n",
       "  'artifact_dir': 'artifact'},\n",
       " 'data_ingestion_config': {'dataset_download_url': 'https://github.com/rodrigosantis1/backorder_prediction/raw/master/dataset.rar',\n",
       "  'raw_data_dir': 'raw_data',\n",
       "  'rar_download_dir': 'rar_data',\n",
       "  'ingested_dir': 'ingested_data',\n",
       "  'ingested_train_dir': 'train',\n",
       "  'ingested_test_dir': 'test'},\n",
       " 'data_validation_config': {'schema_dir': 'config',\n",
       "  'schema_file_name': 'schema.yaml',\n",
       "  'report_file_name': 'report.json',\n",
       "  'report_page_file_name': 'report.html'},\n",
       " 'data_transformation_config': {'optional_added_column': True,\n",
       "  'transformed_dir': 'transformed_data',\n",
       "  'transformed_train_dir': 'train',\n",
       "  'transformed_test_dir': 'test',\n",
       "  'preprocessing_dir': 'preprocessed',\n",
       "  'preprocessed_object_file_name': 'preprocessed.pkl'},\n",
       " 'model_trainer_config': {'trained_model_dir': 'trained_model',\n",
       "  'model_file_name': 'model.pkl',\n",
       "  'base_accuracy': 0.6,\n",
       "  'model_config_dir': 'config',\n",
       "  'model_config_file_name': 'model.yaml'},\n",
       " 'model_evaluation_config': {'model_evaluation_file_name': 'model_evaluation.yaml'},\n",
       " 'model_pusher_config': {'model_export_dir': 'saved_models'}}"
      ]
     },
     "execution_count": 53,
     "metadata": {},
     "output_type": "execute_result"
    }
   ],
   "source": [
    "config_file_path = os.path.join(\"config\",\"config.yaml\")\n",
    "read_yaml_file(config_file_path)"
   ]
  },
  {
   "cell_type": "code",
   "execution_count": 54,
   "metadata": {},
   "outputs": [
    {
     "data": {
      "text/plain": [
       "'c:\\\\Users\\\\akintayo.akinpelu\\\\Desktop\\\\DS+ML+DL\\\\ineuron\\\\Projects\\\\Machine Learning\\\\Project-Backorder_Prediction'"
      ]
     },
     "execution_count": 54,
     "metadata": {},
     "output_type": "execute_result"
    }
   ],
   "source": [
    "os.getcwd()"
   ]
  },
  {
   "cell_type": "code",
   "execution_count": 55,
   "metadata": {},
   "outputs": [
    {
     "data": {
      "text/plain": [
       "'c:\\\\Users\\\\akintayo.akinpelu\\\\Desktop\\\\DS+ML+DL\\\\ineuron\\\\Projects\\\\Machine Learning\\\\Project-Backorder_Prediction'"
      ]
     },
     "execution_count": 55,
     "metadata": {},
     "output_type": "execute_result"
    }
   ],
   "source": [
    "pwd()"
   ]
  },
  {
   "cell_type": "code",
   "execution_count": 86,
   "metadata": {},
   "outputs": [],
   "source": [
    "from backorder.config.configuration import Configuartion"
   ]
  },
  {
   "cell_type": "code",
   "execution_count": 87,
   "metadata": {},
   "outputs": [],
   "source": [
    "config = Configuartion()"
   ]
  },
  {
   "cell_type": "code",
   "execution_count": 75,
   "metadata": {},
   "outputs": [
    {
     "ename": "BackorderPredictionException",
     "evalue": "Error occured in script: [c:\\Users\\akintayo.akinpelu\\Desktop\\DS+ML+DL\\ineuron\\Projects\\Machine Learning\\Project-Backorder_Prediction\\backorder\\config\\configuration.py] at line number: [46] error message: ['tgz_download_dir']",
     "output_type": "error",
     "traceback": [
      "\u001b[1;31m---------------------------------------------------------------------------\u001b[0m",
      "\u001b[1;31mKeyError\u001b[0m                                  Traceback (most recent call last)",
      "\u001b[1;32mc:\\Users\\akintayo.akinpelu\\Desktop\\DS+ML+DL\\ineuron\\Projects\\Machine Learning\\Project-Backorder_Prediction\\backorder\\config\\configuration.py\u001b[0m in \u001b[0;36mget_data_ingestion_config\u001b[1;34m(self)\u001b[0m\n\u001b[0;32m     28\u001b[0m             \u001b[0mdata_ingestion_info\u001b[0m \u001b[1;33m=\u001b[0m \u001b[0mself\u001b[0m\u001b[1;33m.\u001b[0m\u001b[0mconfig_info\u001b[0m\u001b[1;33m[\u001b[0m\u001b[0mDATA_INGESTION_CONFIG_KEY\u001b[0m\u001b[1;33m]\u001b[0m\u001b[1;33m\u001b[0m\u001b[0m\n\u001b[1;32m---> 29\u001b[1;33m \u001b[1;33m\u001b[0m\u001b[0m\n\u001b[0m\u001b[0;32m     30\u001b[0m             \u001b[0mdataset_download_url\u001b[0m \u001b[1;33m=\u001b[0m \u001b[0mdata_ingestion_info\u001b[0m\u001b[1;33m[\u001b[0m\u001b[0mDATA_INGESTION_DOWNLOAD_URL_KEY\u001b[0m\u001b[1;33m]\u001b[0m\u001b[1;33m\u001b[0m\u001b[0m\n",
      "\u001b[1;31mKeyError\u001b[0m: 'tgz_download_dir'",
      "\nThe above exception was the direct cause of the following exception:\n",
      "\u001b[1;31mBackorderPredictionException\u001b[0m              Traceback (most recent call last)",
      "\u001b[1;32m~\\AppData\\Local\\Temp\\ipykernel_7400\\2719117554.py\u001b[0m in \u001b[0;36m<module>\u001b[1;34m\u001b[0m\n\u001b[1;32m----> 1\u001b[1;33m \u001b[0mconfig\u001b[0m\u001b[1;33m.\u001b[0m\u001b[0mget_data_ingestion_config\u001b[0m\u001b[1;33m(\u001b[0m\u001b[1;33m)\u001b[0m\u001b[1;33m\u001b[0m\u001b[0m\n\u001b[0m",
      "\u001b[1;32mc:\\Users\\akintayo.akinpelu\\Desktop\\DS+ML+DL\\ineuron\\Projects\\Machine Learning\\Project-Backorder_Prediction\\backorder\\config\\configuration.py\u001b[0m in \u001b[0;36mget_data_ingestion_config\u001b[1;34m(self)\u001b[0m\n\u001b[0;32m     44\u001b[0m                                                         \u001b[0mrar_download_dir\u001b[0m\u001b[1;33m=\u001b[0m\u001b[0mrar_download_dir\u001b[0m\u001b[1;33m,\u001b[0m\u001b[1;33m\u001b[0m\u001b[0m\n\u001b[0;32m     45\u001b[0m                                                         \u001b[0mraw_data_dir\u001b[0m\u001b[1;33m=\u001b[0m\u001b[0mraw_data_dir\u001b[0m\u001b[1;33m,\u001b[0m\u001b[1;33m\u001b[0m\u001b[0m\n\u001b[1;32m---> 46\u001b[1;33m                                                         \u001b[0mingested_train_dir\u001b[0m\u001b[1;33m=\u001b[0m\u001b[0mingested_train_dir\u001b[0m\u001b[1;33m,\u001b[0m\u001b[1;33m\u001b[0m\u001b[0m\n\u001b[0m\u001b[0;32m     47\u001b[0m                                                         ingested_test_dir=ingested_test_dir)\n\u001b[0;32m     48\u001b[0m             \u001b[0mlogging\u001b[0m\u001b[1;33m.\u001b[0m\u001b[0minfo\u001b[0m\u001b[1;33m(\u001b[0m\u001b[1;34mf\"Data Ingestion config: {data_ingestion_config}\"\u001b[0m\u001b[1;33m)\u001b[0m\u001b[1;33m\u001b[0m\u001b[0m\n",
      "\u001b[1;31mBackorderPredictionException\u001b[0m: Error occured in script: [c:\\Users\\akintayo.akinpelu\\Desktop\\DS+ML+DL\\ineuron\\Projects\\Machine Learning\\Project-Backorder_Prediction\\backorder\\config\\configuration.py] at line number: [46] error message: ['tgz_download_dir']"
     ]
    }
   ],
   "source": [
    "config.get_data_ingestion_config()"
   ]
  },
  {
   "cell_type": "code",
   "execution_count": 76,
   "metadata": {},
   "outputs": [
    {
     "data": {
      "text/plain": [
       "DataValidationConfig(schema_file_path='c:\\\\Users\\\\akintayo.akinpelu\\\\Desktop\\\\DS+ML+DL\\\\ineuron\\\\Projects\\\\Machine Learning\\\\Project-Backorder_Prediction\\\\config\\\\schema.yaml', report_file_path='c:\\\\Users\\\\akintayo.akinpelu\\\\Desktop\\\\DS+ML+DL\\\\ineuron\\\\Projects\\\\Machine Learning\\\\Project-Backorder_Prediction\\\\backorder\\\\artifact\\\\data_validation\\\\2022-07-18-18-17-14\\\\report.json', report_page_file_path='c:\\\\Users\\\\akintayo.akinpelu\\\\Desktop\\\\DS+ML+DL\\\\ineuron\\\\Projects\\\\Machine Learning\\\\Project-Backorder_Prediction\\\\backorder\\\\artifact\\\\data_validation\\\\2022-07-18-18-17-14\\\\report.html')"
      ]
     },
     "execution_count": 76,
     "metadata": {},
     "output_type": "execute_result"
    }
   ],
   "source": [
    "config.get_data_validation_config()"
   ]
  },
  {
   "cell_type": "code",
   "execution_count": 77,
   "metadata": {},
   "outputs": [
    {
     "ename": "BackorderPredictionException",
     "evalue": "Error occured in script: [c:\\Users\\akintayo.akinpelu\\Desktop\\DS+ML+DL\\ineuron\\Projects\\Machine Learning\\Project-Backorder_Prediction\\backorder\\config\\configuration.py] at line number: [130] error message: ['add_bedroom_per_room']",
     "output_type": "error",
     "traceback": [
      "\u001b[1;31m---------------------------------------------------------------------------\u001b[0m",
      "\u001b[1;31mKeyError\u001b[0m                                  Traceback (most recent call last)",
      "\u001b[1;32mc:\\Users\\akintayo.akinpelu\\Desktop\\DS+ML+DL\\ineuron\\Projects\\Machine Learning\\Project-Backorder_Prediction\\backorder\\config\\configuration.py\u001b[0m in \u001b[0;36mget_data_transformation_config\u001b[1;34m(self)\u001b[0m\n\u001b[0;32m     94\u001b[0m                                                 data_transformation_info[DATA_TRANSFORMATION_TEST_DIR_NAME_KEY])\n\u001b[1;32m---> 95\u001b[1;33m \u001b[1;33m\u001b[0m\u001b[0m\n\u001b[0m\u001b[0;32m     96\u001b[0m             data_transformation_config = DataTransformationConfig(optional_added_column=optional_added_column, \n",
      "\u001b[1;31mKeyError\u001b[0m: 'add_bedroom_per_room'",
      "\nThe above exception was the direct cause of the following exception:\n",
      "\u001b[1;31mBackorderPredictionException\u001b[0m              Traceback (most recent call last)",
      "\u001b[1;32m~\\AppData\\Local\\Temp\\ipykernel_7400\\425664753.py\u001b[0m in \u001b[0;36m<module>\u001b[1;34m\u001b[0m\n\u001b[1;32m----> 1\u001b[1;33m \u001b[0mconfig\u001b[0m\u001b[1;33m.\u001b[0m\u001b[0mget_data_transformation_config\u001b[0m\u001b[1;33m(\u001b[0m\u001b[1;33m)\u001b[0m\u001b[1;33m\u001b[0m\u001b[0m\n\u001b[0m",
      "\u001b[1;32mc:\\Users\\akintayo.akinpelu\\Desktop\\DS+ML+DL\\ineuron\\Projects\\Machine Learning\\Project-Backorder_Prediction\\backorder\\config\\configuration.py\u001b[0m in \u001b[0;36mget_data_transformation_config\u001b[1;34m(self)\u001b[0m\n\u001b[0;32m    128\u001b[0m \u001b[1;33m\u001b[0m\u001b[0m\n\u001b[0;32m    129\u001b[0m     \u001b[1;32mdef\u001b[0m \u001b[0mget_model_evaluation_config\u001b[0m\u001b[1;33m(\u001b[0m\u001b[0mself\u001b[0m\u001b[1;33m)\u001b[0m \u001b[1;33m->\u001b[0m\u001b[0mModelEvaluationConfig\u001b[0m\u001b[1;33m:\u001b[0m\u001b[1;33m\u001b[0m\u001b[0m\n\u001b[1;32m--> 130\u001b[1;33m         \u001b[1;32mtry\u001b[0m\u001b[1;33m:\u001b[0m\u001b[1;33m\u001b[0m\u001b[0m\n\u001b[0m\u001b[0;32m    131\u001b[0m             \u001b[0mmodel_evaluation_info\u001b[0m \u001b[1;33m=\u001b[0m \u001b[0mself\u001b[0m\u001b[1;33m.\u001b[0m\u001b[0mconfig_info\u001b[0m\u001b[1;33m[\u001b[0m\u001b[0mMODEL_EVALUATION_CONFIG_KEY\u001b[0m\u001b[1;33m]\u001b[0m\u001b[1;33m\u001b[0m\u001b[0m\n\u001b[0;32m    132\u001b[0m             artifact_dir = os.path.join(self.training_pipeline_config.artifact_dir,\n",
      "\u001b[1;31mBackorderPredictionException\u001b[0m: Error occured in script: [c:\\Users\\akintayo.akinpelu\\Desktop\\DS+ML+DL\\ineuron\\Projects\\Machine Learning\\Project-Backorder_Prediction\\backorder\\config\\configuration.py] at line number: [130] error message: ['add_bedroom_per_room']"
     ]
    }
   ],
   "source": [
    "config.get_data_transformation_config()"
   ]
  },
  {
   "cell_type": "code",
   "execution_count": 78,
   "metadata": {},
   "outputs": [
    {
     "data": {
      "text/plain": [
       "ModelTrainerConfig(trained_model_file_path='c:\\\\Users\\\\akintayo.akinpelu\\\\Desktop\\\\DS+ML+DL\\\\ineuron\\\\Projects\\\\Machine Learning\\\\Project-Backorder_Prediction\\\\backorder\\\\artifact\\\\model_trainer\\\\2022-07-18-18-17-14\\\\trained_model\\\\model.pkl', base_accuracy=0.6, model_config_file_path='config\\\\model.yaml')"
      ]
     },
     "execution_count": 78,
     "metadata": {},
     "output_type": "execute_result"
    }
   ],
   "source": [
    "config.get_model_trainer_config()"
   ]
  },
  {
   "cell_type": "code",
   "execution_count": 83,
   "metadata": {},
   "outputs": [
    {
     "data": {
      "text/plain": [
       "'c:\\\\Users\\\\akintayo.akinpelu\\\\Desktop\\\\DS+ML+DL\\\\ineuron\\\\Projects\\\\Machine Learning\\\\Project-Backorder_Prediction\\\\backorder\\\\artifact\\\\model_evaluation\\\\model_evaluation.yaml'"
      ]
     },
     "execution_count": 83,
     "metadata": {},
     "output_type": "execute_result"
    }
   ],
   "source": [
    "config.get_model_evaluation_config().model_evaluation_file_path"
   ]
  },
  {
   "cell_type": "code",
   "execution_count": 80,
   "metadata": {},
   "outputs": [
    {
     "data": {
      "text/plain": [
       "ModelPusherConfig(export_dir_path='c:\\\\Users\\\\akintayo.akinpelu\\\\Desktop\\\\DS+ML+DL\\\\ineuron\\\\Projects\\\\Machine Learning\\\\Project-Backorder_Prediction\\\\saved_models\\\\20220720150015')"
      ]
     },
     "execution_count": 80,
     "metadata": {},
     "output_type": "execute_result"
    }
   ],
   "source": [
    "config.get_model_pusher_config()"
   ]
  },
  {
   "cell_type": "code",
   "execution_count": 81,
   "metadata": {},
   "outputs": [
    {
     "data": {
      "text/plain": [
       "TrainingPipelineConfig(artifact_dir='c:\\\\Users\\\\akintayo.akinpelu\\\\Desktop\\\\DS+ML+DL\\\\ineuron\\\\Projects\\\\Machine Learning\\\\Project-Backorder_Prediction\\\\backorder\\\\artifact')"
      ]
     },
     "execution_count": 81,
     "metadata": {},
     "output_type": "execute_result"
    }
   ],
   "source": [
    "config.get_training_pipeline_config()"
   ]
  },
  {
   "cell_type": "code",
   "execution_count": null,
   "metadata": {},
   "outputs": [],
   "source": []
  },
  {
   "cell_type": "code",
   "execution_count": null,
   "metadata": {},
   "outputs": [],
   "source": []
  },
  {
   "cell_type": "code",
   "execution_count": null,
   "metadata": {},
   "outputs": [],
   "source": []
  },
  {
   "cell_type": "code",
   "execution_count": 88,
   "metadata": {},
   "outputs": [
    {
     "data": {
      "text/plain": [
       "{'dataset_download_url': 'https://github.com/rodrigosantis1/backorder_prediction/raw/master/dataset.rar',\n",
       " 'raw_data_dir': 'raw_data',\n",
       " 'rar_download_dir': 'rar_data',\n",
       " 'ingested_dir': 'ingested_data',\n",
       " 'ingested_train_dir': 'train',\n",
       " 'ingested_test_dir': 'test'}"
      ]
     },
     "execution_count": 88,
     "metadata": {},
     "output_type": "execute_result"
    }
   ],
   "source": [
    "from backorder.constant import *\n",
    "\n",
    "config.config_info[DATA_INGESTION_CONFIG_KEY]"
   ]
  },
  {
   "cell_type": "code",
   "execution_count": null,
   "metadata": {},
   "outputs": [],
   "source": []
  },
  {
   "cell_type": "code",
   "execution_count": null,
   "metadata": {},
   "outputs": [],
   "source": []
  },
  {
   "cell_type": "code",
   "execution_count": null,
   "metadata": {},
   "outputs": [],
   "source": [
    "artifact_dir = training_pipeline_config.artifact_dir\n",
    "data_ingestion_artifact_dir = os.path.join(artifact_dir, \n",
    "                                                        DATA_INGESTION_ARTIFACT_DIR, \n",
    "                                                        self.time_stamp)\n",
    "\n",
    "os.path.join(data_ingestion_artifact_dir, \n",
    "                                            data_ingestion_config_info[DATA_INGESTION_RAR_DOWNLOAD_DIR_KEY])"
   ]
  },
  {
   "cell_type": "code",
   "execution_count": 91,
   "metadata": {},
   "outputs": [],
   "source": [
    "from backorder.component.data_ingestion import DataIngestion"
   ]
  },
  {
   "cell_type": "code",
   "execution_count": null,
   "metadata": {},
   "outputs": [],
   "source": [
    "raw_data_dir = self.data_ingestion_config.raw_data_dir\n",
    "\n",
    "            file_name = os.listdir(raw_data_dir)[0]\n",
    "\n",
    "            backorder_file_path = os.path.join(raw_data_dir,file_name)"
   ]
  },
  {
   "cell_type": "code",
   "execution_count": 92,
   "metadata": {},
   "outputs": [
    {
     "ename": "NameError",
     "evalue": "name 'raw_data_dir' is not defined",
     "output_type": "error",
     "traceback": [
      "\u001b[1;31m---------------------------------------------------------------------------\u001b[0m",
      "\u001b[1;31mNameError\u001b[0m                                 Traceback (most recent call last)",
      "\u001b[1;32m~\\AppData\\Local\\Temp\\ipykernel_7400\\2565361798.py\u001b[0m in \u001b[0;36m<module>\u001b[1;34m\u001b[0m\n\u001b[0;32m      1\u001b[0m \u001b[1;32mimport\u001b[0m \u001b[0mos\u001b[0m\u001b[1;33m\u001b[0m\u001b[0m\n\u001b[1;32m----> 2\u001b[1;33m \u001b[0mos\u001b[0m\u001b[1;33m.\u001b[0m\u001b[0mlistdir\u001b[0m\u001b[1;33m(\u001b[0m\u001b[0mraw_data_dir\u001b[0m\u001b[1;33m)\u001b[0m\u001b[1;33m[\u001b[0m\u001b[1;36m0\u001b[0m\u001b[1;33m]\u001b[0m\u001b[1;33m\u001b[0m\u001b[0m\n\u001b[0m",
      "\u001b[1;31mNameError\u001b[0m: name 'raw_data_dir' is not defined"
     ]
    }
   ],
   "source": [
    "import os\n",
    "os.listdir(raw_data_dir)[0]"
   ]
  },
  {
   "cell_type": "code",
   "execution_count": null,
   "metadata": {},
   "outputs": [],
   "source": []
  },
  {
   "cell_type": "code",
   "execution_count": 93,
   "metadata": {},
   "outputs": [],
   "source": [
    "url = \"https://github.com/rodrigosantis1/backorder_prediction/raw/master/dataset.rar\""
   ]
  },
  {
   "cell_type": "code",
   "execution_count": 94,
   "metadata": {},
   "outputs": [],
   "source": [
    "import os"
   ]
  },
  {
   "cell_type": "code",
   "execution_count": 95,
   "metadata": {},
   "outputs": [
    {
     "data": {
      "text/plain": [
       "'dataset.rar'"
      ]
     },
     "execution_count": 95,
     "metadata": {},
     "output_type": "execute_result"
    }
   ],
   "source": [
    "os.path.basename(url)"
   ]
  },
  {
   "cell_type": "code",
   "execution_count": 100,
   "metadata": {},
   "outputs": [],
   "source": [
    "file_path = r'C:\\Users\\akintayo.akinpelu\\Desktop\\DS+ML+DL\\ineuron\\Projects\\Machine Learning\\Project-Backorder_Prediction\\config'"
   ]
  },
  {
   "cell_type": "code",
   "execution_count": 102,
   "metadata": {},
   "outputs": [
    {
     "data": {
      "text/plain": [
       "'config.yaml'"
      ]
     },
     "execution_count": 102,
     "metadata": {},
     "output_type": "execute_result"
    }
   ],
   "source": [
    "os.listdir(file_path)[0]"
   ]
  },
  {
   "cell_type": "code",
   "execution_count": null,
   "metadata": {},
   "outputs": [],
   "source": []
  }
 ],
 "metadata": {
  "kernelspec": {
   "display_name": "Python 3.7.0 (conda)",
   "language": "python",
   "name": "python3"
  },
  "language_info": {
   "codemirror_mode": {
    "name": "ipython",
    "version": 3
   },
   "file_extension": ".py",
   "mimetype": "text/x-python",
   "name": "python",
   "nbconvert_exporter": "python",
   "pygments_lexer": "ipython3",
   "version": "3.7.0"
  },
  "orig_nbformat": 4,
  "vscode": {
   "interpreter": {
    "hash": "3384dc79b1b67852bbf0856434c4ce472be5c43954f8a2b14d3b9f1689c91489"
   }
  }
 },
 "nbformat": 4,
 "nbformat_minor": 2
}
